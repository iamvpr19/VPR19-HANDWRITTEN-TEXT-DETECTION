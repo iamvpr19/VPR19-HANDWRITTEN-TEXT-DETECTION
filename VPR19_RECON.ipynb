{
  "nbformat": 4,
  "nbformat_minor": 0,
  "metadata": {
    "colab": {
      "name": "Copy of VPR19_RECON.ipynb",
      "provenance": [],
      "collapsed_sections": [],
      "authorship_tag": "ABX9TyP0ZimnNSeTVypVF3xDMaWo",
      "include_colab_link": true
    },
    "kernelspec": {
      "name": "python3",
      "display_name": "Python 3"
    }
  },
  "cells": [
    {
      "cell_type": "markdown",
      "metadata": {
        "id": "view-in-github",
        "colab_type": "text"
      },
      "source": [
        "<a href=\"https://colab.research.google.com/github/iamvpr19/VPR19-HANDWRITTEN-TEXT-DETECTION/blob/master/VPR19_RECON.ipynb\" target=\"_parent\"><img src=\"https://colab.research.google.com/assets/colab-badge.svg\" alt=\"Open In Colab\"/></a>"
      ]
    },
    {
      "cell_type": "markdown",
      "metadata": {
        "id": "2EAaVT3VOXF3",
        "colab_type": "text"
      },
      "source": [
        "**Name:** Vishnu Preetham Revelli\n",
        "\n",
        "**Internship Project Topic:** Automate Extraction of Handwritten Text From An Image.\n",
        "\n",
        "**Name of the Organization:** TCS iON\n",
        "\n",
        "**Name of the Industry Mentor:** Anamika Chatterjee\n",
        "\n",
        "**Name of the Institute:** SRM INSTITUTE OF SCIENCE AND TECHNOLOGY, KTR CAMPUS, CHENNAI"
      ]
    },
    {
      "cell_type": "markdown",
      "metadata": {
        "id": "y8jZ3tqlOiMG",
        "colab_type": "text"
      },
      "source": [
        "## **Installation:** This is the installation guide module.\n",
        "### You have to install all dependencies given below one by one."
      ]
    },
    {
      "cell_type": "code",
      "metadata": {
        "id": "37zAY-l1k28X",
        "colab_type": "code",
        "colab": {}
      },
      "source": [
        "!sudo add-apt-repository ppa:alex-p/tesseract-ocr"
      ],
      "execution_count": null,
      "outputs": []
    },
    {
      "cell_type": "code",
      "metadata": {
        "id": "Oko_EppHlOqz",
        "colab_type": "code",
        "colab": {}
      },
      "source": [
        "!sudo apt-get update\n"
      ],
      "execution_count": null,
      "outputs": []
    },
    {
      "cell_type": "code",
      "metadata": {
        "id": "hJ-LPwimlaAA",
        "colab_type": "code",
        "colab": {}
      },
      "source": [
        "!sudo apt install tesseract-ocr\n"
      ],
      "execution_count": null,
      "outputs": []
    },
    {
      "cell_type": "code",
      "metadata": {
        "id": "0G4TECkXlkSn",
        "colab_type": "code",
        "colab": {}
      },
      "source": [
        "!sudo apt install libtesseract-dev"
      ],
      "execution_count": null,
      "outputs": []
    },
    {
      "cell_type": "code",
      "metadata": {
        "id": "el9jeB9mltVk",
        "colab_type": "code",
        "colab": {}
      },
      "source": [
        "!sudo pip install pytesseract"
      ],
      "execution_count": null,
      "outputs": []
    },
    {
      "cell_type": "code",
      "metadata": {
        "id": "GYviFwTBl0wg",
        "colab_type": "code",
        "colab": {}
      },
      "source": [
        "!tesseract --version"
      ],
      "execution_count": null,
      "outputs": []
    },
    {
      "cell_type": "markdown",
      "metadata": {
        "id": "5FCPbKl5OoqN",
        "colab_type": "text"
      },
      "source": [
        "#**Input Module:** This module saves the source image in the directory. By simply mounting your Google Drive. It retrives the image from which the text is to be extracted."
      ]
    },
    {
      "cell_type": "code",
      "metadata": {
        "id": "I3wAk2CNmsuu",
        "colab_type": "code",
        "colab": {
          "base_uri": "https://localhost:8080/",
          "height": 34
        },
        "outputId": "bcf473a0-ee8a-4846-f150-2c1770332583"
      },
      "source": [
        "#Image Source Input Module \n",
        "from google.colab import drive\n",
        "drive.mount('/content/drive')\n",
        "\n",
        "filename = ('/content/drive/My Drive/VPR19 TEXT IMAGES/testironman.jpeg')"
      ],
      "execution_count": null,
      "outputs": [
        {
          "output_type": "stream",
          "text": [
            "Drive already mounted at /content/drive; to attempt to forcibly remount, call drive.mount(\"/content/drive\", force_remount=True).\n"
          ],
          "name": "stdout"
        }
      ]
    },
    {
      "cell_type": "markdown",
      "metadata": {
        "id": "PrjeG8D1PzfJ",
        "colab_type": "text"
      },
      "source": [
        "#**Test image which can be used to test this project.** \n",
        "The drive path of image is mentioned by default in the Input Module \n",
        "\n",
        "\n",
        "---\n",
        "![alt text](https://drive.google.com/uc?export=view&id=1OH-Ms_vPvEKxZfZTSWgn3l81Ra9N2k-X)\n",
        "\n",
        "You can download test images and upload it to your google drive in order to test the application or you can use your own too. https://drive.google.com/drive/folders/1luQ1KxsKjBL5qWCku5wjYK6xrnfxKUy7?usp=sharing\n",
        "---\n"
      ]
    },
    {
      "cell_type": "markdown",
      "metadata": {
        "id": "CFc3DDHmV4WH",
        "colab_type": "text"
      },
      "source": [
        "# **Prediction Module**"
      ]
    },
    {
      "cell_type": "code",
      "metadata": {
        "id": "BFDmQ-xJnUEf",
        "colab_type": "code",
        "colab": {
          "base_uri": "https://localhost:8080/",
          "height": 85
        },
        "outputId": "07edb19d-fe08-47e5-8dce-08a120e2ec76"
      },
      "source": [
        "import cv2\n",
        "import numpy as n\n",
        "import pytesseract as p\n",
        "from PIL import Image\n",
        "\n",
        "def get_string(img_path):\n",
        "  \n",
        "    ## OpenCV is Reading the input image.\n",
        "    img = cv2.imread(img_path)\n",
        "\n",
        "    ## Convertion to grey for clear recognition     \n",
        "    img = cv2.cvtColor(img, cv2.COLOR_BGR2GRAY)\n",
        "\n",
        "    ## NOISE Removal\n",
        "    kernel = n.ones((1, 1), n.uint8)\n",
        "    img = cv2.dilate(img, kernel, iterations=1)\n",
        "    img = cv2.erode(img, kernel, iterations=1)\n",
        "\n",
        "    ## new image writhing after noise is removed\n",
        "    cv2.imwrite(\"removed_noise.png\", img)\n",
        "\n",
        "    cv2.imwrite(img_path, img)\n",
        "\n",
        "    ## RECOGNITION IN PROCESS USING TESSERACT\n",
        "    result = p.image_to_string(Image.open(img_path))\n",
        "\n",
        "    return result\n",
        "\n",
        "print (\"VPR19_RECON WORKING SUCCESSFULLY\")\n",
        "print (\"Text From The Input Image is\")\n",
        "print (get_string(filename))\n",
        "\n",
        "print (\"SUCCESSFULLY COMPLETED\")"
      ],
      "execution_count": null,
      "outputs": [
        {
          "output_type": "stream",
          "text": [
            "VPR19_RECON WORKING SUCCESSFULLY\n",
            "Text From The Input Image is\n",
            "| AM IRONMAN\n",
            "SUCCESSFULLY COMPLETED\n"
          ],
          "name": "stdout"
        }
      ]
    }
  ]
}